{
 "cells": [
  {
   "cell_type": "code",
   "execution_count": 1,
   "metadata": {},
   "outputs": [
    {
     "name": "stdout",
     "output_type": "stream",
     "text": [
      "Imports Successful\n"
     ]
    }
   ],
   "source": [
    "from qiskit import QuantumCircuit, execute, Aer\n",
    "from qiskit.visualization import plot_histogram, plot_bloch_multivector\n",
    "from numpy.random import randint\n",
    "import numpy as np\n",
    "import onetimepad\n",
    "print(\"Imports Successful\")"
   ]
  },
  {
   "cell_type": "code",
   "execution_count": 2,
   "metadata": {},
   "outputs": [],
   "source": [
    "n= 100\n",
    "\n",
    "def vPlot(qc):\n",
    "    tbackend = BasicAer.get_backend('statevector_simulator')\n",
    "    job = execute(qc, tbackend).result()\n",
    "    return plot_bloch_multivector(job.get_statevector(qc), title=\"\")\n",
    "\n",
    "def getResults(qc,shot):\n",
    "    backend = Aer.get_backend('qasm_simulator')\n",
    "    shots = shot\n",
    "    job = execute(qc, backend, shots=shots, memory=True)\n",
    "    result = job.result()\n",
    "    memory = result.get_memory()\n",
    "    oArray = []\n",
    "    for x in range(0, shots):\n",
    "        converted = int(memory[x], 2)\n",
    "        oArray.append(converted)\n",
    "    return oArray\n",
    "\n",
    "def encode_message(bits, bases):\n",
    "    message = []\n",
    "    for i in range(n):\n",
    "        qc = QuantumCircuit(1,1)\n",
    "        if bases[i] == 0: # if base[i] = 0\n",
    "            if bits[i] == 0: # & bit is 0, do nothing\n",
    "                pass \n",
    "            else:\n",
    "                qc.x(0) #if base = 0 & bit = 1, change it to 0\n",
    "                \n",
    "        else: # if base[i] = 1\n",
    "            if bits[i] == 0: # if base =1, and bit = 0, put bit into super position\n",
    "                qc.h(0)\n",
    "            else:\n",
    "                qc.x(0) #if base = 1 and bit = 1, set bit to 0 and put it in super position\n",
    "                qc.h(0)\n",
    "        qc.barrier()\n",
    "        message.append(qc)\n",
    "    return message\n",
    "\n",
    "def measure_message(message, bases):\n",
    "    backend = Aer.get_backend('qasm_simulator')\n",
    "    measurements = []\n",
    "    for q in range(n):\n",
    "        if bases[q] == 0: # if base[q] = 0, then measure it, return 1 or 0\n",
    "            message[q].measure(0,0)\n",
    "        if bases[q] == 1: # if base[q] = 1, then use a H gate, which is a gate for super position\n",
    "            message[q].h(0)\n",
    "            message[q].measure(0,0) #measure the message\n",
    "        result = execute(message[q], backend, shots=1, memory=True).result()\n",
    "        measured_bit = int(result.get_memory()[0])\n",
    "        measurements.append(measured_bit) # return values\n",
    "    return measurements\n",
    "\n",
    "def remove_garbage(a_bases, b_bases, bits):\n",
    "    good_bits = []\n",
    "    for q in range(n):\n",
    "        if a_bases[q] == b_bases[q]:\n",
    "            good_bits.append(bits[q])\n",
    "    return good_bits\n",
    "\n",
    "#check bit strings, and remove nonsecure bits used for checking\n",
    "def sample_bits(bits, selection):\n",
    "    sample = [] \n",
    "    for i in selection:\n",
    "        i = np.mod(i, len(bits))\n",
    "        sample.append(bits.pop(i)) #remove sampled selection from key\n",
    "    return sample\n",
    "\n",
    "def quantumNumGen (shots):\n",
    "    qc = QuantumCircuit(1,1)\n",
    "    qc.h(0)\n",
    "    qc.measure(0,0)\n",
    "    result = getResults(qc, shots)\n",
    "    return result\n",
    "\n",
    "def keyGen(n,sample_size):\n",
    "    alice_bits = quantumNumGen(n)\n",
    "    alice_bases = quantumNumGen(n)\n",
    "    message = encode_message(alice_bits, alice_bases)\n",
    "    bob_bases = quantumNumGen(n)\n",
    "    bob_results = measure_message(message, bob_bases)\n",
    "    bob_key = remove_garbage(alice_bases, bob_bases, bob_results)\n",
    "    alice_key = remove_garbage(alice_bases, bob_bases, alice_bits)\n",
    "    sample_size = 15\n",
    "    bit_selection = randint(n, size=sample_size)\n",
    "    bob_sample = sample_bits(bob_key, bit_selection)\n",
    "    alice_sample = sample_bits(alice_key, bit_selection)\n",
    "    if bob_sample != alice_sample:\n",
    "        print(\"Outside interfence detected\")\n",
    "        return\n",
    "    return bob_key;"
   ]
  },
  {
   "cell_type": "code",
   "execution_count": 3,
   "metadata": {},
   "outputs": [
    {
     "name": "stdout",
     "output_type": "stream",
     "text": [
      "[0, 0, 0, 1, 1, 0, 1, 0, 1, 1, 1, 0, 0, 0, 0, 1, 0, 0, 1, 0, 1, 0, 1, 0, 0, 1, 0, 0, 1, 1, 0, 1, 1, 0, 0, 0]\n",
      "36\n",
      "[0, 0, 0, 1, 1, 0, 1, 0, 1, 1, 1, 0, 0, 0, 0, 1, 0, 0, 1, 0, 1, 0, 1, 0, 0, 1, 0, 0, 1, 1, 0, 1, 1, 0, 0, 0]\n"
     ]
    }
   ],
   "source": [
    "key = keyGen(n,25)\n",
    "print(key)\n",
    "print(len(key))\n",
    "print(key)"
   ]
  },
  {
   "cell_type": "code",
   "execution_count": 4,
   "metadata": {},
   "outputs": [
    {
     "name": "stdout",
     "output_type": "stream",
     "text": [
      "<class 'str'>\n",
      "36\n",
      "000110101110000100101010010011011000\n"
     ]
    }
   ],
   "source": [
    "temp = [str(i) for i in key]\n",
    "#print(temp)\n",
    "newKey = (\"\".join(temp))\n",
    "print(type(newKey))\n",
    "print(len(newKey))\n",
    "print(newKey)"
   ]
  },
  {
   "cell_type": "code",
   "execution_count": 5,
   "metadata": {},
   "outputs": [
    {
     "name": "stdout",
     "output_type": "stream",
     "text": [
      "30 44\n"
     ]
    }
   ],
   "source": [
    "myString = \"the social security number is enc[123-45-678]enc\"\n",
    "start = myString.find(\"enc[\")\n",
    "end = myString.find(\"]enc\")\n",
    "print(start, end)\n",
    "\n",
    "subStart = start + 4\n",
    "subEnd = end\n",
    "#print(myString[subStart], myString[subEnd])\n",
    "mySub = myString[subStart:subEnd]\n",
    "#print(len(mySub))\n",
    "#print(mySub)\n",
    "#print(myString)"
   ]
  },
  {
   "cell_type": "code",
   "execution_count": 6,
   "metadata": {},
   "outputs": [],
   "source": [
    "#!pip install onetimepad"
   ]
  },
  {
   "cell_type": "code",
   "execution_count": 7,
   "metadata": {},
   "outputs": [
    {
     "name": "stdout",
     "output_type": "stream",
     "text": [
      "000110101110000100101010010011011000\n",
      "0102031c05051c060609\n",
      "123-45-678\n"
     ]
    }
   ],
   "source": [
    "print(newKey)\n",
    "cipher = onetimepad.encrypt(mySub,newKey)\n",
    "print (cipher)\n",
    "cipher = onetimepad.decrypt(cipher,newKey)\n",
    "print (cipher)"
   ]
  },
  {
   "cell_type": "code",
   "execution_count": 8,
   "metadata": {},
   "outputs": [],
   "source": [
    "def sendMessage(s,newKey):\n",
    "    start = s.find(\"enc[\")\n",
    "    end = s.find(\"]enc\")\n",
    "    subStart = start + 4\n",
    "    subEnd = end\n",
    "    mySub = s[subStart:subEnd]\n",
    "    cipher = onetimepad.encrypt(mySub,newKey)\n",
    "    final = s[:start] + \"dec[\"+cipher+\"]dec\" + s[(end+4):]\n",
    "    return final\n",
    "\n",
    "def receiveMessage(s,newKey):\n",
    "    start = s.find(\"dec[\")\n",
    "    end = s.find(\"]dec\")\n",
    "    subStart = start + 4\n",
    "    subEnd = end\n",
    "    mySub = s[subStart:subEnd]\n",
    "    cipher = onetimepad.decrypt(mySub, newKey)\n",
    "    final = s[:start] +cipher+ s[(end+4):]\n",
    "    return final\n",
    "    "
   ]
  },
  {
   "cell_type": "code",
   "execution_count": 9,
   "metadata": {},
   "outputs": [
    {
     "name": "stdout",
     "output_type": "stream",
     "text": [
      "My bank account number is dec[01030204050607090851535354]dec, please delete after reading\n",
      "My bank account number is 123456789abcd, please delete after reading\n"
     ]
    }
   ],
   "source": [
    "stringIn = \"My bank account number is enc[123456789abcd]enc, please delete after reading\"\n",
    "key = keyGen(n,25)\n",
    "temp = [str(i) for i in key]\n",
    "myKey = (\"\".join(temp))\n",
    "send = sendMessage(stringIn,myKey)\n",
    "print(send)\n",
    "receive = receiveMessage(send,myKey)\n",
    "print(receive)"
   ]
  },
  {
   "cell_type": "code",
   "execution_count": null,
   "metadata": {},
   "outputs": [],
   "source": []
  }
 ],
 "metadata": {
  "kernelspec": {
   "display_name": "Python 3",
   "language": "python",
   "name": "python3"
  },
  "language_info": {
   "codemirror_mode": {
    "name": "ipython",
    "version": 3
   },
   "file_extension": ".py",
   "mimetype": "text/x-python",
   "name": "python",
   "nbconvert_exporter": "python",
   "pygments_lexer": "ipython3",
   "version": "3.7.6"
  }
 },
 "nbformat": 4,
 "nbformat_minor": 4
}
